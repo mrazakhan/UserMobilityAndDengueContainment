{
 "cells": [
  {
   "cell_type": "code",
   "execution_count": null,
   "metadata": {
    "collapsed": true
   },
   "outputs": [],
   "source": [
    "from shapely.geometry import Point, shape\n",
    "import keytree\n",
    "from xml.etree import ElementTree\n",
    "import os"
   ]
  },
  {
   "cell_type": "code",
   "execution_count": null,
   "metadata": {
    "collapsed": true
   },
   "outputs": [],
   "source": [
    "os.chdir('F://Dengue_Spread')"
   ]
  },
  {
   "cell_type": "code",
   "execution_count": null,
   "metadata": {
    "collapsed": false
   },
   "outputs": [],
   "source": [
    "class PointQueries:\n",
    "    def __init__(self, kmlfile=\"towns.kml\"):\n",
    "        self.kmlfile=kmlfile\n",
    "        self.town_dict=self.load_polygon(kmlfile)\n",
    "        \n",
    "    def load_polygon(self,kmlfile ):\n",
    "        doc = open(\"towns.kml\").read()\n",
    "        tree = ElementTree.fromstring(doc)\n",
    "        kmlns = tree.tag.split('}')[0][1:]\n",
    "        town_dict={}\n",
    "        # Minor changes may be required for different kml files\n",
    "        desc = tree.findall(\".//{%s}description\" % kmlns)[1:]\n",
    "        elems = tree.findall(\".//{%s}Polygon\" % kmlns)\n",
    "#         p = Point(74.172997,31.429407)\n",
    "        for i in range(len(desc)):\n",
    "            town_dict[desc[i].text]=elems[i]\n",
    "        return town_dict\n",
    "    def query(self, lat, lng):\n",
    "#         print self.town_dict.keys()\n",
    "        p=Point(lng, lat)\n",
    "        for key in self.town_dict:\n",
    "            if shape(keytree.geometry(self.town_dict[key])).contains(p):\n",
    "                print key\n",
    "                return key\n",
    "        return \"None\"\n",
    "    def queryFiles(self, filename, filter_district=\"\"):\n",
    "        Tower_Town={}\n",
    "        with open(filename) as fin:\n",
    "            for each in fin:\n",
    "                \n",
    "                Index, TowerId, Lat, Lng, District=each.split(',')\n",
    "                if (filter_district==\"\" or District.strip()==filter_district) and 'TowerId' not in each:\n",
    "                    print each\n",
    "                    town=self.query(float(Lat), float(Lng))\n",
    "                    Tower_Town[TowerId]=town\n",
    "                    \n",
    "        with open('TowerTownMapping.csv','w') as fout:\n",
    "            print 'TowerId,Town\\n'\n",
    "            for key in Tower_Town:\n",
    "                fout.write('{},{}\\n'.format(key, Tower_Town[key]))\n"
   ]
  },
  {
   "cell_type": "code",
   "execution_count": null,
   "metadata": {
    "collapsed": false,
    "scrolled": false
   },
   "outputs": [],
   "source": [
    "pq=PointQueries()\n",
    "pq.queryFiles(\"annotated_telenor_sites_district_final.csv\", \"Lahore\")\n"
   ]
  },
  {
   "cell_type": "code",
   "execution_count": null,
   "metadata": {
    "collapsed": false
   },
   "outputs": [],
   "source": [
    "print hits[0].tag"
   ]
  },
  {
   "cell_type": "code",
   "execution_count": null,
   "metadata": {
    "collapsed": true
   },
   "outputs": [],
   "source": [
    "# Missing Towers\n",
    "LLN001,None\n",
    "LAH001,None\n",
    "LNS001,None\n",
    "LGG001,None\n",
    "LM2R14,None\n",
    "LNGR10,None\n",
    "LRJ001,None\n",
    "LMY001,None\n",
    "LSH010,None\n",
    "LKSR22,None\n",
    "LKSR25,None\n",
    "LKSR27,None\n",
    "LLR819,None\n",
    "LSPR96,None\n",
    "LNGR05,None\n",
    "LNGR02,None\n",
    "LKS008,None\n",
    "LLR823,None\n",
    "LKS006,None\n",
    "LSH009,None\n",
    "LMTR75,None\n",
    "LMTR80,None\n",
    "LMTR87,None\n",
    "LKRR02,None\n",
    "LSA001,None\n",
    "LSPR77,None\n",
    "LST001,None\n",
    "LSSR04,None\n"
   ]
  }
 ],
 "metadata": {
  "kernelspec": {
   "display_name": "Python 2",
   "language": "python",
   "name": "python2"
  },
  "language_info": {
   "codemirror_mode": {
    "name": "ipython",
    "version": 2
   },
   "file_extension": ".py",
   "mimetype": "text/x-python",
   "name": "python",
   "nbconvert_exporter": "python",
   "pygments_lexer": "ipython2",
   "version": "2.7.11"
  }
 },
 "nbformat": 4,
 "nbformat_minor": 0
}
