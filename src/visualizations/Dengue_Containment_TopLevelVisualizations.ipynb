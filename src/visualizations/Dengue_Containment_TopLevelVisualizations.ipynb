{
 "cells": [
  {
   "cell_type": "code",
   "execution_count": null,
   "metadata": {
    "collapsed": false
   },
   "outputs": [],
   "source": [
    "import os\n",
    "from matplotlib import cm\n",
    "import matplotlib.pyplot as plt\n",
    "import math\n",
    "import numpy as np\n",
    "import pandas as pd\n",
    "import seaborn as sns\n",
    "%matplotlib inline\n"
   ]
  },
  {
   "cell_type": "code",
   "execution_count": null,
   "metadata": {
    "collapsed": true
   },
   "outputs": [],
   "source": [
    "os.chdir('f://Dengue_Spread//mobility_data//')"
   ]
  },
  {
   "cell_type": "code",
   "execution_count": null,
   "metadata": {
    "collapsed": false
   },
   "outputs": [],
   "source": [
    "df2 = pd.DataFrame(np.random.rand(10, 4), columns=['a', 'b', 'c', 'd'])\n",
    "df2\n"
   ]
  },
  {
   "cell_type": "code",
   "execution_count": null,
   "metadata": {
    "collapsed": false,
    "scrolled": true
   },
   "outputs": [],
   "source": [
    "dt=str(1).zfill(2)\n",
    "df=pd.read_csv('DailyVisits_without_subscribers_2015-10-'+dt+'.csv')\n",
    "#df=df.set_index(['Date','TownName'])\n",
    "df=df.sort('TownName')\n",
    "\n",
    "\n",
    "\n",
    "for i in range(2,15):\n",
    "    dt='DailyVisits_without_subscribers_2015-10-'+str(i).zfill(2)+'.csv'\n",
    "    print dt\n",
    "    df2=pd.read_csv(dt)\n",
    "    df2=df2.sort('TownName')\n",
    "    \n",
    "    #df2=df2.set_index(['Date','TownName'])\n",
    "    df=df.append(df2)\n",
    "    df.head()\n",
    "# #df=df.set_index(['Date','TownName'])\n",
    "  \n",
    "df\n",
    "table = pd.pivot_table(df, values='SubscribersCount', index=['Date'],columns=['TownName'], aggfunc=np.sum)\n",
    "table"
   ]
  },
  {
   "cell_type": "code",
   "execution_count": null,
   "metadata": {
    "collapsed": false
   },
   "outputs": [],
   "source": [
    "#df=df[['TownName','SubscribersCount_x','SubscribersCount_y']]\n",
    "# df.set_index('TownName', inplace=True)\n",
    "# colors = plt.cm.GnBu(np.linspace(0, 1, 11))\n",
    "colors = plt.cm.Set1(np.linspace(0, 1, 11))\n",
    "print len(colors)\n",
    "ax=table.plot.bar(figsize=(16,13),color =colors, fontsize=18, width=0.8)\n",
    "                  #color=['r','g','b','orange','cyan','pink','black','br','yellow','maroon'])\n",
    "\n",
    "ax.legend(ncol=6)\n",
    "f=ax.get_figure()\n",
    "f.savefig('./TotalSubscribers.png', bbox_inches='tight')"
   ]
  },
  {
   "cell_type": "code",
   "execution_count": null,
   "metadata": {
    "collapsed": false
   },
   "outputs": [],
   "source": [
    "df=pd.read_csv('SummaryTransitions_2015-10-01.csv')\n",
    "for i in range(2,15):\n",
    "    df2=pd.read_csv('SummaryTransitions_2015-10-'+str(i).zfill(2)+'.csv')\n",
    "    df=df.append(df2)\n",
    "table = pd.pivot_table(df, values='Count', index=['Src'],columns=['Dest'], aggfunc=np.sum)\n",
    "table.to_csv('CompleteTransitionMatrix.csv')\n",
    "table"
   ]
  },
  {
   "cell_type": "code",
   "execution_count": null,
   "metadata": {
    "collapsed": false
   },
   "outputs": [],
   "source": [
    "plt.gcf().subplots_adjust(left=-0.35)\n",
    "# Generate a mask for the upper triangle\n",
    "#mask = np.zeros_like(corr, dtype=np.bool)\n",
    "#mask[np.triu_indices_from(mask)] = True\n",
    "\n",
    "# Set up the matplotlib figure\n",
    "\n",
    "f, ax = plt.subplots(figsize=(20, 16))\n",
    "\n",
    "# Generate a custom diverging colormap\n",
    "cmap = sns.diverging_palette(220, 10, as_cmap=True)\n",
    "\n",
    "# Draw the heatmap with the mask and correct aspect ratio\n",
    "ax=sns.heatmap(table,  cmap=cmap, \n",
    "            square=True, fmt='d',\n",
    "            linewidths=.5, cbar_kws={\"shrink\": 0.4,\"orientation\": \"vertical\",'pad':0.02,}, ax=ax, annot=True,\n",
    "               annot_kws={\"size\": 10})\n",
    "ax.set_xlabel('Socio Economic Indicators', fontsize=18, fontweight='bold')\n",
    "ax.set_ylabel('CDR Related Indicators', fontsize=18, fontweight='bold')\n",
    "\n",
    "ax.set_xticklabels(ax.get_xticklabels(),fontsize=14, rotation=90)\n",
    "ax.set_yticklabels(ax.get_yticklabels(),fontsize=14,rotation=30)\n",
    "plt.show()\n",
    "\n",
    "# ax=plt.gca()\n",
    "# im=ax.images[0]        #this is a list of all images that have been plotted\n",
    "# fig = ax.get_figure()\n",
    "# cb=fig.colorbar(ax) \n",
    "# for t in cb.ax.get_yticklabels():\n",
    "#     t.set_horizontalalignment('right')   \n",
    "#     t.set_x(3.5)\n",
    "\n",
    "\n",
    "f.savefig('./MovementTransitionMatrices.png', bbox_inches='tight')"
   ]
  },
  {
   "cell_type": "code",
   "execution_count": null,
   "metadata": {
    "collapsed": true
   },
   "outputs": [],
   "source": []
  }
 ],
 "metadata": {
  "kernelspec": {
   "display_name": "Python 2",
   "language": "python",
   "name": "python2"
  },
  "language_info": {
   "codemirror_mode": {
    "name": "ipython",
    "version": 2
   },
   "file_extension": ".py",
   "mimetype": "text/x-python",
   "name": "python",
   "nbconvert_exporter": "python",
   "pygments_lexer": "ipython2",
   "version": "2.7.11"
  }
 },
 "nbformat": 4,
 "nbformat_minor": 0
}
